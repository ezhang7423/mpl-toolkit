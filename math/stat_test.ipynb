{
 "cells": [
  {
   "cell_type": "markdown",
   "metadata": {},
   "source": [
    "# Python Statistical Tests Cheatsheet\n",
    "\n",
    "\n",
    "\n",
    "Remember to always check the assumptions of each test and interpret the results in the context of your research question and data characteristics.\n"
   ]
  },
  {
   "cell_type": "markdown",
   "metadata": {},
   "source": [
    "\n",
    "## 1. Student's t-test\n",
    "\n",
    "**When to use:** \n",
    "- Compare means of two groups\n",
    "- Continuous dependent variable, categorical independent variable with 2 levels\n",
    "- Assumes normal distribution and equal variances\n",
    "\n",
    "**Test name:** t-test\n",
    "\n",
    "**Example:**"
   ]
  },
  {
   "cell_type": "code",
   "execution_count": 11,
   "metadata": {},
   "outputs": [
    {
     "data": {
      "text/plain": [
       "7.0710678118654755"
      ]
     },
     "execution_count": 11,
     "metadata": {},
     "output_type": "execute_result"
    }
   ],
   "source": [
    "before.std()"
   ]
  },
  {
   "cell_type": "code",
   "execution_count": 10,
   "metadata": {},
   "outputs": [
    {
     "data": {
      "text/plain": [
       "7.057024868880655"
      ]
     },
     "execution_count": 10,
     "metadata": {},
     "output_type": "execute_result"
    }
   ],
   "source": [
    "after.std()"
   ]
  },
  {
   "cell_type": "code",
   "execution_count": 9,
   "metadata": {},
   "outputs": [
    {
     "name": "stdout",
     "output_type": "stream",
     "text": [
      "Independent t-test: t=-5.4679, p=0.0006\n",
      "Paired t-test: t=249.0000, p=0.0000\n",
      "One-sample t-test: t=1.9612, p=0.1214\n"
     ]
    }
   ],
   "source": [
    "\n",
    "import numpy as np\n",
    "from scipy import stats\n",
    "\n",
    "# Independent two-sample t-test\n",
    "group1 = np.array([5.2, 4.8, 5.5, 4.9, 5.1])\n",
    "group2 = np.array([5.8, 6.1, 5.9, 6.2, 5.7])\n",
    "t_statistic, p_value = stats.ttest_ind(group1, group2)\n",
    "print(f\"Independent t-test: t={t_statistic:.4f}, p={p_value:.4f}\")\n",
    "\n",
    "# Paired t-test\n",
    "before = np.array([180, 190, 175, 185, 195])\n",
    "after = np.array([175.1, 185, 170, 180, 190])\n",
    "t_statistic, p_value = stats.ttest_rel(before, after)\n",
    "print(f\"Paired t-test: t={t_statistic:.4f}, p={p_value:.4f}\")\n",
    "\n",
    "# One-sample t-test\n",
    "sample = np.array([25.5, 26.2, 24.8, 25.1, 25.9])\n",
    "popmean = 25\n",
    "t_statistic, p_value = stats.ttest_1samp(sample, popmean)\n",
    "print(f\"One-sample t-test: t={t_statistic:.4f}, p={p_value:.4f}\")\n",
    "\n"
   ]
  },
  {
   "cell_type": "markdown",
   "metadata": {},
   "source": [
    "\n",
    "\n",
    "## 2. ANOVA (Analysis of Variance)\n",
    "\n",
    "**When to use:** \n",
    "- Compare means of three or more groups\n",
    "- Continuous dependent variable, categorical independent variable with 3+ levels\n",
    "- Assumes normal distribution and equal variances\n",
    "\n",
    "**Test name:** F-test\n",
    "\n",
    "**Example:**\n",
    "\n"
   ]
  },
  {
   "cell_type": "code",
   "execution_count": 2,
   "metadata": {},
   "outputs": [
    {
     "ename": "ModuleNotFoundError",
     "evalue": "No module named 'statsmodels'",
     "output_type": "error",
     "traceback": [
      "\u001b[0;31m---------------------------------------------------------------------------\u001b[0m",
      "\u001b[0;31mModuleNotFoundError\u001b[0m                       Traceback (most recent call last)",
      "Cell \u001b[0;32mIn[2], line 2\u001b[0m\n\u001b[1;32m      1\u001b[0m \u001b[38;5;28;01mimport\u001b[39;00m \u001b[38;5;21;01mpandas\u001b[39;00m \u001b[38;5;28;01mas\u001b[39;00m \u001b[38;5;21;01mpd\u001b[39;00m\n\u001b[0;32m----> 2\u001b[0m \u001b[38;5;28;01mimport\u001b[39;00m \u001b[38;5;21;01mstatsmodels\u001b[39;00m\u001b[38;5;21;01m.\u001b[39;00m\u001b[38;5;21;01mapi\u001b[39;00m \u001b[38;5;28;01mas\u001b[39;00m \u001b[38;5;21;01msm\u001b[39;00m\n\u001b[1;32m      3\u001b[0m \u001b[38;5;28;01mfrom\u001b[39;00m \u001b[38;5;21;01mstatsmodels\u001b[39;00m\u001b[38;5;21;01m.\u001b[39;00m\u001b[38;5;21;01mformula\u001b[39;00m\u001b[38;5;21;01m.\u001b[39;00m\u001b[38;5;21;01mapi\u001b[39;00m \u001b[38;5;28;01mimport\u001b[39;00m ols\n\u001b[1;32m      5\u001b[0m \u001b[38;5;66;03m# Create a sample dataset\u001b[39;00m\n",
      "\u001b[0;31mModuleNotFoundError\u001b[0m: No module named 'statsmodels'"
     ]
    }
   ],
   "source": [
    "\n",
    "import pandas as pd\n",
    "import statsmodels.api as sm\n",
    "from statsmodels.formula.api import ols\n",
    "\n",
    "# Create a sample dataset\n",
    "data = {\n",
    "    'group': ['A', 'A', 'A', 'B', 'B', 'B', 'C', 'C', 'C'],\n",
    "    'value': [4.2, 3.8, 4.1, 5.7, 5.9, 5.8, 7.2, 6.8, 7.1]\n",
    "}\n",
    "df = pd.DataFrame(data)\n",
    "\n",
    "# Perform one-way ANOVA\n",
    "model = ols('value ~ C(group)', data=df).fit()\n",
    "anova_table = sm.stats.anova_lm(model, typ=2)\n",
    "print(\"ANOVA results:\")\n",
    "print(anova_table)\n"
   ]
  },
  {
   "cell_type": "markdown",
   "metadata": {},
   "source": [
    "\n",
    "\n",
    "## 3. Chi-Square Test of Independence\n",
    "\n",
    "**When to use:** \n",
    "- Test relationship between two categorical variables\n",
    "- Assumes expected frequencies are at least 5 in each cell\n",
    "\n",
    "**Test name:** Chi-square test\n",
    "\n",
    "**Example:**\n"
   ]
  },
  {
   "cell_type": "code",
   "execution_count": 3,
   "metadata": {},
   "outputs": [
    {
     "name": "stdout",
     "output_type": "stream",
     "text": [
      "Chi-square test: chi2=8.8889, p=0.0117, dof=2\n"
     ]
    }
   ],
   "source": [
    "\n",
    "import numpy as np\n",
    "from scipy.stats import chi2_contingency\n",
    "\n",
    "# Create a contingency table\n",
    "contingency_table = np.array([\n",
    "    [30, 20, 10],\n",
    "    [15, 25, 20]\n",
    "])\n",
    "\n",
    "# Perform chi-square test\n",
    "chi2, p_value, dof, expected = chi2_contingency(contingency_table)\n",
    "print(f\"Chi-square test: chi2={chi2:.4f}, p={p_value:.4f}, dof={dof}\")\n"
   ]
  },
  {
   "cell_type": "markdown",
   "metadata": {},
   "source": [
    "\n",
    "\n",
    "## 4. Pearson Correlation\n",
    "\n",
    "**When to use:** \n",
    "- Measure strength and direction of linear relationship between two continuous variables\n",
    "- Assumes bivariate normal distribution\n",
    "\n",
    "**Test name:** Pearson's r\n",
    "\n",
    "**Example:**\n",
    "\n"
   ]
  },
  {
   "cell_type": "code",
   "execution_count": 4,
   "metadata": {},
   "outputs": [
    {
     "name": "stdout",
     "output_type": "stream",
     "text": [
      "Pearson correlation: r=0.9999, p=0.0000\n"
     ]
    }
   ],
   "source": [
    "\n",
    "import numpy as np\n",
    "from scipy import stats\n",
    "\n",
    "x = np.array([1.2, 2.4, 3.6, 4.8, 6.0])\n",
    "y = np.array([2.1, 3.5, 4.8, 6.2, 7.5])\n",
    "\n",
    "r, p_value = stats.pearsonr(x, y)\n",
    "print(f\"Pearson correlation: r={r:.4f}, p={p_value:.4f}\")\n"
   ]
  },
  {
   "cell_type": "markdown",
   "metadata": {},
   "source": [
    "\n",
    "\n",
    "## 5. Spearman Rank Correlation\n",
    "\n",
    "**When to use:** \n",
    "- Measure strength and direction of monotonic relationship between two variables\n",
    "- Use when data is ordinal or not normally distributed\n",
    "\n",
    "**Test name:** Spearman's rho\n",
    "\n",
    "**Example:**\n"
   ]
  },
  {
   "cell_type": "code",
   "execution_count": 5,
   "metadata": {},
   "outputs": [
    {
     "name": "stdout",
     "output_type": "stream",
     "text": [
      "Spearman correlation: rho=0.9000, p=0.0374\n"
     ]
    }
   ],
   "source": [
    "\n",
    "import numpy as np\n",
    "from scipy import stats\n",
    "\n",
    "x = np.array([1, 2, 3, 4, 5])\n",
    "y = np.array([2, 3, 5, 4, 6])\n",
    "\n",
    "rho, p_value = stats.spearmanr(x, y)\n",
    "print(f\"Spearman correlation: rho={rho:.4f}, p={p_value:.4f}\")\n"
   ]
  },
  {
   "cell_type": "markdown",
   "metadata": {},
   "source": [
    "\n",
    "\n",
    "## 6. Mann-Whitney U Test\n",
    "\n",
    "**When to use:** \n",
    "- Non-parametric alternative to t-test\n",
    "- Compare two independent samples\n",
    "- No assumption of normal distribution\n",
    "\n",
    "**Test name:** Mann-Whitney U test\n",
    "\n",
    "**Example:**\n"
   ]
  },
  {
   "cell_type": "code",
   "execution_count": 6,
   "metadata": {},
   "outputs": [
    {
     "name": "stdout",
     "output_type": "stream",
     "text": [
      "Mann-Whitney U test: U=0.0000, p=0.0079\n"
     ]
    }
   ],
   "source": [
    "\n",
    "import numpy as np\n",
    "from scipy import stats\n",
    "\n",
    "group1 = np.array([72, 68, 75, 71, 70])\n",
    "group2 = np.array([80, 78, 82, 79, 81])\n",
    "\n",
    "statistic, p_value = stats.mannwhitneyu(group1, group2, alternative='two-sided')\n",
    "print(f\"Mann-Whitney U test: U={statistic:.4f}, p={p_value:.4f}\")\n"
   ]
  },
  {
   "cell_type": "markdown",
   "metadata": {},
   "source": [
    "\n",
    "\n",
    "## 7. Wilcoxon Signed-Rank Test\n",
    "\n",
    "**When to use:** \n",
    "- Non-parametric alternative to paired t-test\n",
    "- Compare two related samples\n",
    "- No assumption of normal distribution\n",
    "\n",
    "**Test name:** Wilcoxon signed-rank test\n",
    "\n",
    "**Example:**\n"
   ]
  },
  {
   "cell_type": "code",
   "execution_count": 7,
   "metadata": {},
   "outputs": [
    {
     "name": "stdout",
     "output_type": "stream",
     "text": [
      "Wilcoxon signed-rank test: W=0.0000, p=0.0625\n"
     ]
    }
   ],
   "source": [
    "\n",
    "import numpy as np\n",
    "from scipy import stats\n",
    "\n",
    "before = np.array([180, 190, 175, 185, 195])\n",
    "after = np.array([175, 185, 170, 180, 190])\n",
    "\n",
    "statistic, p_value = stats.wilcoxon(before, after)\n",
    "print(f\"Wilcoxon signed-rank test: W={statistic:.4f}, p={p_value:.4f}\")\n"
   ]
  },
  {
   "cell_type": "markdown",
   "metadata": {},
   "source": [
    "\n",
    "\n",
    "## 8. Kruskal-Wallis H-test\n",
    "\n",
    "**When to use:** \n",
    "- Non-parametric alternative to one-way ANOVA\n",
    "- Compare three or more independent samples\n",
    "- No assumption of normal distribution\n",
    "\n",
    "**Test name:** Kruskal-Wallis H-test\n",
    "\n",
    "**Example:**\n"
   ]
  },
  {
   "cell_type": "code",
   "execution_count": 8,
   "metadata": {},
   "outputs": [
    {
     "name": "stdout",
     "output_type": "stream",
     "text": [
      "Kruskal-Wallis H-test: H=12.5000, p=0.0019\n"
     ]
    }
   ],
   "source": [
    "\n",
    "import numpy as np\n",
    "from scipy import stats\n",
    "\n",
    "group1 = np.array([72, 68, 75, 71, 70])\n",
    "group2 = np.array([80, 78, 82, 79, 81])\n",
    "group3 = np.array([85, 87, 83, 86, 84])\n",
    "\n",
    "h_statistic, p_value = stats.kruskal(group1, group2, group3)\n",
    "print(f\"Kruskal-Wallis H-test: H={h_statistic:.4f}, p={p_value:.4f}\")\n"
   ]
  },
  {
   "cell_type": "markdown",
   "metadata": {},
   "source": [
    "\n",
    "\n",
    "## 9. Shapiro-Wilk Test\n",
    "\n",
    "**When to use:** \n",
    "- Test if a sample comes from a normally distributed population\n",
    "- Recommended for small sample sizes (n < 50)\n",
    "\n",
    "**Test name:** Shapiro-Wilk test\n",
    "\n",
    "**Example:**\n"
   ]
  },
  {
   "cell_type": "code",
   "execution_count": 9,
   "metadata": {},
   "outputs": [
    {
     "name": "stdout",
     "output_type": "stream",
     "text": [
      "Shapiro-Wilk test: W=0.9435, p=0.6460\n"
     ]
    }
   ],
   "source": [
    "\n",
    "import numpy as np\n",
    "from scipy import stats\n",
    "\n",
    "data = np.array([3.2, 3.5, 3.1, 3.4, 3.3, 3.6, 3.2, 3.5])\n",
    "\n",
    "statistic, p_value = stats.shapiro(data)\n",
    "print(f\"Shapiro-Wilk test: W={statistic:.4f}, p={p_value:.4f}\")\n"
   ]
  },
  {
   "cell_type": "markdown",
   "metadata": {},
   "source": [
    "\n",
    "\n",
    "## 10. Levene's Test\n",
    "\n",
    "**When to use:** \n",
    "- Test for homogeneity of variances across groups\n",
    "- Often used before performing t-test or ANOVA\n",
    "\n",
    "**Test name:** Levene's test\n",
    "\n",
    "**Example:**\n"
   ]
  },
  {
   "cell_type": "code",
   "execution_count": 10,
   "metadata": {},
   "outputs": [
    {
     "name": "stdout",
     "output_type": "stream",
     "text": [
      "Levene's test: W=0.4390, p=0.6546\n"
     ]
    }
   ],
   "source": [
    "\n",
    "import numpy as np\n",
    "from scipy import stats\n",
    "\n",
    "group1 = np.array([72, 68, 75, 71, 70])\n",
    "group2 = np.array([80, 78, 82, 79, 81])\n",
    "group3 = np.array([85, 87, 83, 86, 84])\n",
    "\n",
    "statistic, p_value = stats.levene(group1, group2, group3)\n",
    "print(f\"Levene's test: W={statistic:.4f}, p={p_value:.4f}\")\n"
   ]
  }
 ],
 "metadata": {
  "kernelspec": {
   "display_name": "base",
   "language": "python",
   "name": "python3"
  },
  "language_info": {
   "codemirror_mode": {
    "name": "ipython",
    "version": 3
   },
   "file_extension": ".py",
   "mimetype": "text/x-python",
   "name": "python",
   "nbconvert_exporter": "python",
   "pygments_lexer": "ipython3",
   "version": "3.10.12"
  }
 },
 "nbformat": 4,
 "nbformat_minor": 2
}
